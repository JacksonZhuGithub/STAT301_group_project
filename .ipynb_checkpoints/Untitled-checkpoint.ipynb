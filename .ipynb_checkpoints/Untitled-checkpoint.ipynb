{
 "cells": [
  {
   "cell_type": "markdown",
   "id": "d5f27b4c-de6a-418f-b742-0a004e4aa411",
   "metadata": {},
   "source": [
    "# Title"
   ]
  },
  {
   "cell_type": "markdown",
   "id": "5737d306-ff01-4d4f-99b4-a4e5b86df44e",
   "metadata": {},
   "source": [
    "Authors: Zhekai Zhu,"
   ]
  },
  {
   "cell_type": "markdown",
   "id": "13f3ee71-194e-47b1-afec-9e457d27af3f",
   "metadata": {},
   "source": [
    "----------"
   ]
  },
  {
   "cell_type": "markdown",
   "id": "9fc4e6f1-d230-4141-93eb-181b33efa173",
   "metadata": {},
   "source": [
    "## Introduction"
   ]
  },
  {
   "cell_type": "code",
   "execution_count": 3,
   "id": "26d3274d-91d2-4e65-b8e2-58cc8d53fbb0",
   "metadata": {},
   "outputs": [
    {
     "name": "stderr",
     "output_type": "stream",
     "text": [
      "Updating HTML index of packages in '.Library'\n",
      "\n",
      "Making 'packages.html' ...\n",
      " done\n",
      "\n"
     ]
    }
   ],
   "source": [
    "#load library\n",
    "options(repr.plot.width=8, repr.plot.height=6)\n",
    "library(broom)\n",
    "install.packages(\"latex2exp\")\n",
    "library(latex2exp)\n",
    "library(tidyverse)\n",
    "library(repr)\n",
    "library(digest)\n",
    "library(gridExtra)\n",
    "library(faraway)\n",
    "library(mltools)\n",
    "library(leaps)\n",
    "library(glmnet)\n",
    "library(cowplot)\n",
    "\n",
    "messages=FALSE"
   ]
  },
  {
   "cell_type": "markdown",
   "id": "61d2539a-826f-4714-8d07-b1fdd930158d",
   "metadata": {},
   "source": [
    "## Load data"
   ]
  },
  {
   "cell_type": "code",
   "execution_count": 6,
   "id": "b3c9623c-e116-4de3-8cba-0b958420ad11",
   "metadata": {},
   "outputs": [
    {
     "data": {
      "text/html": [
       "<table class=\"dataframe\">\n",
       "<caption>A data.frame: 6 × 14</caption>\n",
       "<thead>\n",
       "\t<tr><th></th><th scope=col>day</th><th scope=col>month</th><th scope=col>year</th><th scope=col>Temperature</th><th scope=col>RH</th><th scope=col>Ws</th><th scope=col>Rain</th><th scope=col>FFMC</th><th scope=col>DMC</th><th scope=col>DC</th><th scope=col>ISI</th><th scope=col>BUI</th><th scope=col>FWI</th><th scope=col>Classes</th></tr>\n",
       "\t<tr><th></th><th scope=col>&lt;chr&gt;</th><th scope=col>&lt;chr&gt;</th><th scope=col>&lt;chr&gt;</th><th scope=col>&lt;chr&gt;</th><th scope=col>&lt;chr&gt;</th><th scope=col>&lt;chr&gt;</th><th scope=col>&lt;chr&gt;</th><th scope=col>&lt;chr&gt;</th><th scope=col>&lt;chr&gt;</th><th scope=col>&lt;chr&gt;</th><th scope=col>&lt;chr&gt;</th><th scope=col>&lt;chr&gt;</th><th scope=col>&lt;chr&gt;</th><th scope=col>&lt;chr&gt;</th></tr>\n",
       "</thead>\n",
       "<tbody>\n",
       "\t<tr><th scope=row>1</th><td>01</td><td>06</td><td>2012</td><td>29</td><td>57</td><td>18</td><td>0   </td><td>65.7</td><td>3.4</td><td>7.6 </td><td>1.3</td><td>3.4</td><td>0.5</td><td>not fire   </td></tr>\n",
       "\t<tr><th scope=row>2</th><td>02</td><td>06</td><td>2012</td><td>29</td><td>61</td><td>13</td><td>1.3 </td><td>64.4</td><td>4.1</td><td>7.6 </td><td>1  </td><td>3.9</td><td>0.4</td><td>not fire   </td></tr>\n",
       "\t<tr><th scope=row>3</th><td>03</td><td>06</td><td>2012</td><td>26</td><td>82</td><td>22</td><td>13.1</td><td>47.1</td><td>2.5</td><td>7.1 </td><td>0.3</td><td>2.7</td><td>0.1</td><td>not fire   </td></tr>\n",
       "\t<tr><th scope=row>4</th><td>04</td><td>06</td><td>2012</td><td>25</td><td>89</td><td>13</td><td>2.5 </td><td>28.6</td><td>1.3</td><td>6.9 </td><td>0  </td><td>1.7</td><td>0  </td><td>not fire   </td></tr>\n",
       "\t<tr><th scope=row>5</th><td>05</td><td>06</td><td>2012</td><td>27</td><td>77</td><td>16</td><td>0   </td><td>64.8</td><td>3  </td><td>14.2</td><td>1.2</td><td>3.9</td><td>0.5</td><td>not fire   </td></tr>\n",
       "\t<tr><th scope=row>6</th><td>06</td><td>06</td><td>2012</td><td>31</td><td>67</td><td>14</td><td>0   </td><td>82.6</td><td>5.8</td><td>22.2</td><td>3.1</td><td>7  </td><td>2.5</td><td>fire       </td></tr>\n",
       "</tbody>\n",
       "</table>\n"
      ],
      "text/latex": [
       "A data.frame: 6 × 14\n",
       "\\begin{tabular}{r|llllllllllllll}\n",
       "  & day & month & year & Temperature & RH & Ws & Rain & FFMC & DMC & DC & ISI & BUI & FWI & Classes\\\\\n",
       "  & <chr> & <chr> & <chr> & <chr> & <chr> & <chr> & <chr> & <chr> & <chr> & <chr> & <chr> & <chr> & <chr> & <chr>\\\\\n",
       "\\hline\n",
       "\t1 & 01 & 06 & 2012 & 29 & 57 & 18 & 0    & 65.7 & 3.4 & 7.6  & 1.3 & 3.4 & 0.5 & not fire   \\\\\n",
       "\t2 & 02 & 06 & 2012 & 29 & 61 & 13 & 1.3  & 64.4 & 4.1 & 7.6  & 1   & 3.9 & 0.4 & not fire   \\\\\n",
       "\t3 & 03 & 06 & 2012 & 26 & 82 & 22 & 13.1 & 47.1 & 2.5 & 7.1  & 0.3 & 2.7 & 0.1 & not fire   \\\\\n",
       "\t4 & 04 & 06 & 2012 & 25 & 89 & 13 & 2.5  & 28.6 & 1.3 & 6.9  & 0   & 1.7 & 0   & not fire   \\\\\n",
       "\t5 & 05 & 06 & 2012 & 27 & 77 & 16 & 0    & 64.8 & 3   & 14.2 & 1.2 & 3.9 & 0.5 & not fire   \\\\\n",
       "\t6 & 06 & 06 & 2012 & 31 & 67 & 14 & 0    & 82.6 & 5.8 & 22.2 & 3.1 & 7   & 2.5 & fire       \\\\\n",
       "\\end{tabular}\n"
      ],
      "text/markdown": [
       "\n",
       "A data.frame: 6 × 14\n",
       "\n",
       "| <!--/--> | day &lt;chr&gt; | month &lt;chr&gt; | year &lt;chr&gt; | Temperature &lt;chr&gt; | RH &lt;chr&gt; | Ws &lt;chr&gt; | Rain &lt;chr&gt; | FFMC &lt;chr&gt; | DMC &lt;chr&gt; | DC &lt;chr&gt; | ISI &lt;chr&gt; | BUI &lt;chr&gt; | FWI &lt;chr&gt; | Classes &lt;chr&gt; |\n",
       "|---|---|---|---|---|---|---|---|---|---|---|---|---|---|---|\n",
       "| 1 | 01 | 06 | 2012 | 29 | 57 | 18 | 0    | 65.7 | 3.4 | 7.6  | 1.3 | 3.4 | 0.5 | not fire    |\n",
       "| 2 | 02 | 06 | 2012 | 29 | 61 | 13 | 1.3  | 64.4 | 4.1 | 7.6  | 1   | 3.9 | 0.4 | not fire    |\n",
       "| 3 | 03 | 06 | 2012 | 26 | 82 | 22 | 13.1 | 47.1 | 2.5 | 7.1  | 0.3 | 2.7 | 0.1 | not fire    |\n",
       "| 4 | 04 | 06 | 2012 | 25 | 89 | 13 | 2.5  | 28.6 | 1.3 | 6.9  | 0   | 1.7 | 0   | not fire    |\n",
       "| 5 | 05 | 06 | 2012 | 27 | 77 | 16 | 0    | 64.8 | 3   | 14.2 | 1.2 | 3.9 | 0.5 | not fire    |\n",
       "| 6 | 06 | 06 | 2012 | 31 | 67 | 14 | 0    | 82.6 | 5.8 | 22.2 | 3.1 | 7   | 2.5 | fire        |\n",
       "\n"
      ],
      "text/plain": [
       "  day month year Temperature RH Ws Rain FFMC DMC DC   ISI BUI FWI Classes    \n",
       "1 01  06    2012 29          57 18 0    65.7 3.4 7.6  1.3 3.4 0.5 not fire   \n",
       "2 02  06    2012 29          61 13 1.3  64.4 4.1 7.6  1   3.9 0.4 not fire   \n",
       "3 03  06    2012 26          82 22 13.1 47.1 2.5 7.1  0.3 2.7 0.1 not fire   \n",
       "4 04  06    2012 25          89 13 2.5  28.6 1.3 6.9  0   1.7 0   not fire   \n",
       "5 05  06    2012 27          77 16 0    64.8 3   14.2 1.2 3.9 0.5 not fire   \n",
       "6 06  06    2012 31          67 14 0    82.6 5.8 22.2 3.1 7   2.5 fire       "
      ]
     },
     "metadata": {},
     "output_type": "display_data"
    }
   ],
   "source": [
    "#Loading data from the Internet\n",
    "\n",
    "forest_fire_df <- read.csv(file = 'https://raw.github.com/JacksonZhuGithub/STAT301_group_project/main/Algerian_forest_fires_dataset_UPDATE.csv',sep=\",\", quote=\"\",skip=1)\n",
    "\n",
    "#Overview of the dataframe\n",
    "\n",
    "head(forest_fire_df)"
   ]
  },
  {
   "cell_type": "code",
   "execution_count": null,
   "id": "7727fe00-0219-460e-af64-d6daf40f688e",
   "metadata": {},
   "outputs": [],
   "source": []
  }
 ],
 "metadata": {
  "kernelspec": {
   "display_name": "R",
   "language": "R",
   "name": "ir"
  },
  "language_info": {
   "codemirror_mode": "r",
   "file_extension": ".r",
   "mimetype": "text/x-r-source",
   "name": "R",
   "pygments_lexer": "r",
   "version": "4.1.3"
  }
 },
 "nbformat": 4,
 "nbformat_minor": 5
}
